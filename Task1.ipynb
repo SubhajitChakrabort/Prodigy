{
 "cells": [
  {
   "cell_type": "code",
   "execution_count": 17,
   "id": "ac8a6660",
   "metadata": {},
   "outputs": [],
   "source": [
    "import pandas as pd\n",
    "from sklearn.model_selection import train_test_split\n",
    "from sklearn.linear_model import LinearRegression\n",
    "from sklearn.preprocessing import LabelEncoder, OneHotEncoder\n",
    "from sklearn.compose import ColumnTransformer\n",
    "from sklearn.metrics import mean_squared_error, r2_score\n"
   ]
  },
  {
   "cell_type": "code",
   "execution_count": 18,
   "id": "03881fbd",
   "metadata": {},
   "outputs": [],
   "source": [
    "df = pd.read_csv('Housing.csv')\n"
   ]
  },
  {
   "cell_type": "code",
   "execution_count": 19,
   "id": "a897b3f0",
   "metadata": {},
   "outputs": [],
   "source": [
    "\n",
    "encoder = LabelEncoder()\n",
    "df['furnishingstatus'] = encoder.fit_transform(df['furnishingstatus'])\n"
   ]
  },
  {
   "cell_type": "code",
   "execution_count": 20,
   "id": "7d5e477d",
   "metadata": {},
   "outputs": [],
   "source": [
    "categorical_features = ['mainroad', 'guestroom', 'basement', 'hotwaterheating', 'airconditioning', 'parking', 'prefarea']\n",
    "numeric_features = ['area', 'bedrooms', 'bathrooms', 'stories']\n",
    "ct = ColumnTransformer([('encoder', OneHotEncoder(), categorical_features)], remainder='passthrough')\n",
    "X = ct.fit_transform(df.drop(columns=['price']))\n",
    "y = df['price']"
   ]
  },
  {
   "cell_type": "code",
   "execution_count": 21,
   "id": "657c37e7",
   "metadata": {},
   "outputs": [],
   "source": [
    "X_train, X_test, y_train, y_test = train_test_split(X, y, test_size=0.2, random_state=42)"
   ]
  },
  {
   "cell_type": "code",
   "execution_count": 22,
   "id": "c4750d7d",
   "metadata": {},
   "outputs": [],
   "source": [
    "model = LinearRegression()\n",
    "model.fit(X_train, y_train)\n",
    "y_pred = model.predict(X_test)\n",
    "mse = mean_squared_error(y_test, y_pred)\n",
    "r2 = r2_score(y_test, y_pred)"
   ]
  },
  {
   "cell_type": "code",
   "execution_count": 23,
   "id": "bae4a9d9",
   "metadata": {},
   "outputs": [
    {
     "name": "stdout",
     "output_type": "stream",
     "text": [
      "Mean Squared Error: 1756046116781.056\n",
      "R^2 Score: 0.6525825082665043\n"
     ]
    }
   ],
   "source": [
    "print(f'Mean Squared Error: {mse}')\n",
    "print(f'R^2 Score: {r2}')"
   ]
  },
  {
   "cell_type": "code",
   "execution_count": 31,
   "id": "9ca78761",
   "metadata": {},
   "outputs": [
    {
     "name": "stdout",
     "output_type": "stream",
     "text": [
      "   furnishingstatus  mainroad  guestroom  basement  hotwaterheating  \\\n",
      "0                 1         0          1         0                1   \n",
      "\n",
      "   airconditioning  parking  prefarea  area  bedrooms  bathrooms  stories  \n",
      "0                0        1         0  3000         4          3        2  \n"
     ]
    }
   ],
   "source": [
    "import pandas as pd\n",
    "new_data = pd.DataFrame([[1, 0, 1, 0, 1, 0, 1, 0, 3000, 4, 3, 2]], columns=['furnishingstatus', 'mainroad', 'guestroom', 'basement', 'hotwaterheating', 'airconditioning', 'parking', 'prefarea', 'area', 'bedrooms', 'bathrooms', 'stories'])\n",
    "print(new_data)\n"
   ]
  },
  {
   "cell_type": "code",
   "execution_count": null,
   "id": "f9573f01",
   "metadata": {},
   "outputs": [],
   "source": []
  }
 ],
 "metadata": {
  "kernelspec": {
   "display_name": "Python 3 (ipykernel)",
   "language": "python",
   "name": "python3"
  },
  "language_info": {
   "codemirror_mode": {
    "name": "ipython",
    "version": 3
   },
   "file_extension": ".py",
   "mimetype": "text/x-python",
   "name": "python",
   "nbconvert_exporter": "python",
   "pygments_lexer": "ipython3",
   "version": "3.11.5"
  }
 },
 "nbformat": 4,
 "nbformat_minor": 5
}
